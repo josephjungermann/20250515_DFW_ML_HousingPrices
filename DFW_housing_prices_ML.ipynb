{
 "cells": [
  {
   "cell_type": "code",
   "execution_count": 1,
   "id": "66d019d5",
   "metadata": {},
   "outputs": [],
   "source": [
    "import pandas as pd\n",
    "from os import path\n",
    "import joblib"
   ]
  },
  {
   "cell_type": "code",
   "execution_count": 2,
   "id": "7ba8aadc",
   "metadata": {},
   "outputs": [
    {
     "name": "stdout",
     "output_type": "stream",
     "text": [
      "<class 'pandas.core.frame.DataFrame'>\n",
      "RangeIndex: 88974 entries, 0 to 88973\n",
      "Data columns (total 30 columns):\n",
      " #   Column               Non-Null Count  Dtype  \n",
      "---  ------               --------------  -----  \n",
      " 0   mlsId                88920 non-null  float64\n",
      " 1   price_amount         88963 non-null  float64\n",
      " 2   formattedStreetLine  88974 non-null  object \n",
      " 3   city                 88970 non-null  object \n",
      " 4   state                88974 non-null  object \n",
      " 5   county               88974 non-null  object \n",
      " 6   zip                  88974 non-null  int64  \n",
      " 7   latitude             88974 non-null  float64\n",
      " 8   longitude            88974 non-null  float64\n",
      " 9   location             88562 non-null  object \n",
      " 10  list_agent_name_1    88128 non-null  object \n",
      " 11  list_broker_name_1   88117 non-null  object \n",
      " 12  list_agent_name_2    11893 non-null  object \n",
      " 13  list_broker_name_2   11891 non-null  object \n",
      " 14  buy_agent_name_1     88113 non-null  object \n",
      " 15  buy_broker_name_1    88104 non-null  object \n",
      " 16  buy_agent_name_2     1360 non-null   object \n",
      " 17  buy_broker_name_2    1355 non-null   object \n",
      " 18  url                  88974 non-null  object \n",
      " 19  beds                 88952 non-null  float64\n",
      " 20  baths                88915 non-null  float64\n",
      " 21  sqft_amount          88956 non-null  float64\n",
      " 22  yearBuilt            88864 non-null  float64\n",
      " 23  hoaDues_amount       51831 non-null  float64\n",
      " 24  listingAddedDate     88920 non-null  object \n",
      " 25  lastSoldDate         88944 non-null  object \n",
      " 26  addressInfo_full     88974 non-null  object \n",
      " 27  brokers              88974 non-null  object \n",
      " 28  propertyId           88974 non-null  int64  \n",
      " 29  listingId            88920 non-null  float64\n",
      "dtypes: float64(10), int64(2), object(18)\n",
      "memory usage: 20.4+ MB\n"
     ]
    }
   ],
   "source": [
    "# load data\n",
    "DATA_DIR = '/Users/trdny_josephjungermann/Documents/the_real_deal/20250515_DFW_ML_HousingPrices/'\n",
    "X = pd.read_csv(path.join(DATA_DIR, 'DFW_ALL_Data.csv'), low_memory=False)\n",
    "X.info()"
   ]
  },
  {
   "cell_type": "code",
   "execution_count": 3,
   "id": "9a3a37fc",
   "metadata": {},
   "outputs": [],
   "source": [
    "from sklearn.model_selection import train_test_split"
   ]
  },
  {
   "cell_type": "code",
   "execution_count": 4,
   "id": "46eb9219",
   "metadata": {},
   "outputs": [
    {
     "name": "stdout",
     "output_type": "stream",
     "text": [
      "<class 'pandas.core.frame.DataFrame'>\n",
      "RangeIndex: 88974 entries, 0 to 88973\n",
      "Data columns (total 18 columns):\n",
      " #   Column               Non-Null Count  Dtype  \n",
      "---  ------               --------------  -----  \n",
      " 0   price_amount         88963 non-null  float64\n",
      " 1   formattedStreetLine  88974 non-null  object \n",
      " 2   city                 88970 non-null  object \n",
      " 3   county               88974 non-null  object \n",
      " 4   location             88562 non-null  object \n",
      " 5   list_agent_name_1    88128 non-null  object \n",
      " 6   list_broker_name_1   88117 non-null  object \n",
      " 7   list_agent_name_2    11893 non-null  object \n",
      " 8   list_broker_name_2   11891 non-null  object \n",
      " 9   buy_agent_name_1     88113 non-null  object \n",
      " 10  buy_broker_name_1    88104 non-null  object \n",
      " 11  buy_agent_name_2     1360 non-null   object \n",
      " 12  buy_broker_name_2    1355 non-null   object \n",
      " 13  url                  88974 non-null  object \n",
      " 14  beds                 88952 non-null  float64\n",
      " 15  baths                88915 non-null  float64\n",
      " 16  sqft_amount          88956 non-null  float64\n",
      " 17  yearBuilt            88864 non-null  float64\n",
      "dtypes: float64(5), object(13)\n",
      "memory usage: 12.2+ MB\n"
     ]
    }
   ],
   "source": [
    "# drop the following columns: latitude, longitude, hoaDues_amount, listingAddedDate, lastSoldDate, addressInfo_full, brokers, propertyId, listingId\n",
    "X.drop(['latitude', 'longitude', 'hoaDues_amount', 'listingAddedDate', 'lastSoldDate', 'addressInfo_full', 'brokers', 'propertyId', 'listingId', 'state', 'zip', 'mlsId'], axis=1, inplace=True)\n",
    "X.info()"
   ]
  },
  {
   "cell_type": "code",
   "execution_count": 5,
   "id": "3092413c",
   "metadata": {},
   "outputs": [],
   "source": [
    "# drop any rows from dataset that has a missing sale price\n",
    "# save target column to y and drop from X\n",
    "X.dropna(axis=0, subset=['price_amount'], inplace=True)\n",
    "y = X.price_amount\n",
    "X.drop(['price_amount'], axis=1, inplace=True)"
   ]
  },
  {
   "cell_type": "code",
   "execution_count": 6,
   "id": "78808992",
   "metadata": {},
   "outputs": [
    {
     "name": "stdout",
     "output_type": "stream",
     "text": [
      "<class 'pandas.core.frame.DataFrame'>\n",
      "Index: 88963 entries, 0 to 88973\n",
      "Data columns (total 17 columns):\n",
      " #   Column               Non-Null Count  Dtype  \n",
      "---  ------               --------------  -----  \n",
      " 0   formattedStreetLine  88963 non-null  object \n",
      " 1   city                 88960 non-null  object \n",
      " 2   county               88963 non-null  object \n",
      " 3   location             88552 non-null  object \n",
      " 4   list_agent_name_1    88117 non-null  object \n",
      " 5   list_broker_name_1   88106 non-null  object \n",
      " 6   list_agent_name_2    11892 non-null  object \n",
      " 7   list_broker_name_2   11890 non-null  object \n",
      " 8   buy_agent_name_1     88103 non-null  object \n",
      " 9   buy_broker_name_1    88093 non-null  object \n",
      " 10  buy_agent_name_2     1360 non-null   object \n",
      " 11  buy_broker_name_2    1355 non-null   object \n",
      " 12  url                  88963 non-null  object \n",
      " 13  beds                 88941 non-null  float64\n",
      " 14  baths                88904 non-null  float64\n",
      " 15  sqft_amount          88945 non-null  float64\n",
      " 16  yearBuilt            88853 non-null  float64\n",
      "dtypes: float64(4), object(13)\n",
      "memory usage: 12.2+ MB\n"
     ]
    }
   ],
   "source": [
    "X.info()"
   ]
  },
  {
   "cell_type": "code",
   "execution_count": 7,
   "id": "2a639725",
   "metadata": {},
   "outputs": [],
   "source": [
    "# break off data into train_test_split\n",
    "X_train_full, X_valid_full, y_train, y_valid = train_test_split(X, y, train_size = 0.8, test_size= 0.2,\n",
    "                                                                random_state=0)"
   ]
  },
  {
   "cell_type": "code",
   "execution_count": 8,
   "id": "19c6316c",
   "metadata": {},
   "outputs": [
    {
     "data": {
      "text/plain": [
       "['county']"
      ]
     },
     "execution_count": 8,
     "metadata": {},
     "output_type": "execute_result"
    }
   ],
   "source": [
    "# select low cardinality object columns. Set value to 15 to include 13 different counties in our training data\n",
    "low_card_columns = [cname for cname in X_train_full.columns if X_train_full[cname].nunique() < 15 and\n",
    "                    X_train_full[cname].dtype == 'object']\n",
    "low_card_columns"
   ]
  },
  {
   "cell_type": "code",
   "execution_count": 9,
   "id": "af985850",
   "metadata": {},
   "outputs": [
    {
     "data": {
      "text/plain": [
       "['beds', 'baths', 'sqft_amount', 'yearBuilt']"
      ]
     },
     "execution_count": 9,
     "metadata": {},
     "output_type": "execute_result"
    }
   ],
   "source": [
    "# select all the numerical columns. In this case: zip, beds, bath, sqft_amount, yearBuilt\n",
    "num_cols = [cname for cname in X_train_full.columns if X_train_full[cname].dtype in ['int64', 'float64']]\n",
    "num_cols"
   ]
  },
  {
   "cell_type": "code",
   "execution_count": 10,
   "id": "15098464",
   "metadata": {},
   "outputs": [],
   "source": [
    "# Keep selected columns only\n",
    "my_cols = low_card_columns + num_cols\n",
    "X_train = X_train_full[my_cols].copy()\n",
    "X_valid = X_valid_full[my_cols].copy()"
   ]
  },
  {
   "cell_type": "code",
   "execution_count": 11,
   "id": "995f8437",
   "metadata": {},
   "outputs": [],
   "source": [
    "# One-hot encode the data (to shorten the code, we use pandas)\n",
    "X_train = pd.get_dummies(X_train)\n",
    "X_valid = pd.get_dummies(X_valid)\n",
    "X_train, X_valid = X_train.align(X_valid, join='left', axis=1)"
   ]
  },
  {
   "cell_type": "code",
   "execution_count": 12,
   "id": "6d1791f6",
   "metadata": {},
   "outputs": [
    {
     "data": {
      "text/html": [
       "<div>\n",
       "<style scoped>\n",
       "    .dataframe tbody tr th:only-of-type {\n",
       "        vertical-align: middle;\n",
       "    }\n",
       "\n",
       "    .dataframe tbody tr th {\n",
       "        vertical-align: top;\n",
       "    }\n",
       "\n",
       "    .dataframe thead th {\n",
       "        text-align: right;\n",
       "    }\n",
       "</style>\n",
       "<table border=\"1\" class=\"dataframe\">\n",
       "  <thead>\n",
       "    <tr style=\"text-align: right;\">\n",
       "      <th></th>\n",
       "      <th>beds</th>\n",
       "      <th>baths</th>\n",
       "      <th>sqft_amount</th>\n",
       "      <th>yearBuilt</th>\n",
       "      <th>county_Collin</th>\n",
       "      <th>county_Dallas</th>\n",
       "      <th>county_Denton</th>\n",
       "      <th>county_Ellis</th>\n",
       "      <th>county_Hood</th>\n",
       "      <th>county_Hunt</th>\n",
       "      <th>county_Johnson</th>\n",
       "      <th>county_Kaufman</th>\n",
       "      <th>county_Parker</th>\n",
       "      <th>county_Rockwall</th>\n",
       "      <th>county_Somervell</th>\n",
       "      <th>county_Tarrant</th>\n",
       "      <th>county_Wise</th>\n",
       "    </tr>\n",
       "  </thead>\n",
       "  <tbody>\n",
       "    <tr>\n",
       "      <th>20993</th>\n",
       "      <td>3.0</td>\n",
       "      <td>2.0</td>\n",
       "      <td>1561.0</td>\n",
       "      <td>1999.0</td>\n",
       "      <td>False</td>\n",
       "      <td>False</td>\n",
       "      <td>True</td>\n",
       "      <td>False</td>\n",
       "      <td>False</td>\n",
       "      <td>False</td>\n",
       "      <td>False</td>\n",
       "      <td>False</td>\n",
       "      <td>False</td>\n",
       "      <td>False</td>\n",
       "      <td>False</td>\n",
       "      <td>False</td>\n",
       "      <td>False</td>\n",
       "    </tr>\n",
       "    <tr>\n",
       "      <th>75503</th>\n",
       "      <td>3.0</td>\n",
       "      <td>2.0</td>\n",
       "      <td>1604.0</td>\n",
       "      <td>2024.0</td>\n",
       "      <td>True</td>\n",
       "      <td>False</td>\n",
       "      <td>False</td>\n",
       "      <td>False</td>\n",
       "      <td>False</td>\n",
       "      <td>False</td>\n",
       "      <td>False</td>\n",
       "      <td>False</td>\n",
       "      <td>False</td>\n",
       "      <td>False</td>\n",
       "      <td>False</td>\n",
       "      <td>False</td>\n",
       "      <td>False</td>\n",
       "    </tr>\n",
       "    <tr>\n",
       "      <th>27939</th>\n",
       "      <td>4.0</td>\n",
       "      <td>3.5</td>\n",
       "      <td>2171.0</td>\n",
       "      <td>2024.0</td>\n",
       "      <td>False</td>\n",
       "      <td>False</td>\n",
       "      <td>True</td>\n",
       "      <td>False</td>\n",
       "      <td>False</td>\n",
       "      <td>False</td>\n",
       "      <td>False</td>\n",
       "      <td>False</td>\n",
       "      <td>False</td>\n",
       "      <td>False</td>\n",
       "      <td>False</td>\n",
       "      <td>False</td>\n",
       "      <td>False</td>\n",
       "    </tr>\n",
       "    <tr>\n",
       "      <th>5726</th>\n",
       "      <td>3.0</td>\n",
       "      <td>2.0</td>\n",
       "      <td>1612.0</td>\n",
       "      <td>1950.0</td>\n",
       "      <td>False</td>\n",
       "      <td>True</td>\n",
       "      <td>False</td>\n",
       "      <td>False</td>\n",
       "      <td>False</td>\n",
       "      <td>False</td>\n",
       "      <td>False</td>\n",
       "      <td>False</td>\n",
       "      <td>False</td>\n",
       "      <td>False</td>\n",
       "      <td>False</td>\n",
       "      <td>False</td>\n",
       "      <td>False</td>\n",
       "    </tr>\n",
       "    <tr>\n",
       "      <th>26294</th>\n",
       "      <td>4.0</td>\n",
       "      <td>3.0</td>\n",
       "      <td>2423.0</td>\n",
       "      <td>2018.0</td>\n",
       "      <td>False</td>\n",
       "      <td>False</td>\n",
       "      <td>True</td>\n",
       "      <td>False</td>\n",
       "      <td>False</td>\n",
       "      <td>False</td>\n",
       "      <td>False</td>\n",
       "      <td>False</td>\n",
       "      <td>False</td>\n",
       "      <td>False</td>\n",
       "      <td>False</td>\n",
       "      <td>False</td>\n",
       "      <td>False</td>\n",
       "    </tr>\n",
       "    <tr>\n",
       "      <th>...</th>\n",
       "      <td>...</td>\n",
       "      <td>...</td>\n",
       "      <td>...</td>\n",
       "      <td>...</td>\n",
       "      <td>...</td>\n",
       "      <td>...</td>\n",
       "      <td>...</td>\n",
       "      <td>...</td>\n",
       "      <td>...</td>\n",
       "      <td>...</td>\n",
       "      <td>...</td>\n",
       "      <td>...</td>\n",
       "      <td>...</td>\n",
       "      <td>...</td>\n",
       "      <td>...</td>\n",
       "      <td>...</td>\n",
       "      <td>...</td>\n",
       "    </tr>\n",
       "    <tr>\n",
       "      <th>21245</th>\n",
       "      <td>4.0</td>\n",
       "      <td>2.0</td>\n",
       "      <td>1818.0</td>\n",
       "      <td>2021.0</td>\n",
       "      <td>False</td>\n",
       "      <td>False</td>\n",
       "      <td>True</td>\n",
       "      <td>False</td>\n",
       "      <td>False</td>\n",
       "      <td>False</td>\n",
       "      <td>False</td>\n",
       "      <td>False</td>\n",
       "      <td>False</td>\n",
       "      <td>False</td>\n",
       "      <td>False</td>\n",
       "      <td>False</td>\n",
       "      <td>False</td>\n",
       "    </tr>\n",
       "    <tr>\n",
       "      <th>45896</th>\n",
       "      <td>3.0</td>\n",
       "      <td>2.0</td>\n",
       "      <td>1605.0</td>\n",
       "      <td>2024.0</td>\n",
       "      <td>False</td>\n",
       "      <td>False</td>\n",
       "      <td>False</td>\n",
       "      <td>False</td>\n",
       "      <td>False</td>\n",
       "      <td>False</td>\n",
       "      <td>False</td>\n",
       "      <td>False</td>\n",
       "      <td>False</td>\n",
       "      <td>True</td>\n",
       "      <td>False</td>\n",
       "      <td>False</td>\n",
       "      <td>False</td>\n",
       "    </tr>\n",
       "    <tr>\n",
       "      <th>42617</th>\n",
       "      <td>3.0</td>\n",
       "      <td>2.0</td>\n",
       "      <td>1389.0</td>\n",
       "      <td>2004.0</td>\n",
       "      <td>False</td>\n",
       "      <td>False</td>\n",
       "      <td>False</td>\n",
       "      <td>False</td>\n",
       "      <td>False</td>\n",
       "      <td>False</td>\n",
       "      <td>False</td>\n",
       "      <td>False</td>\n",
       "      <td>True</td>\n",
       "      <td>False</td>\n",
       "      <td>False</td>\n",
       "      <td>False</td>\n",
       "      <td>False</td>\n",
       "    </tr>\n",
       "    <tr>\n",
       "      <th>43571</th>\n",
       "      <td>3.0</td>\n",
       "      <td>2.5</td>\n",
       "      <td>2152.0</td>\n",
       "      <td>2024.0</td>\n",
       "      <td>False</td>\n",
       "      <td>False</td>\n",
       "      <td>False</td>\n",
       "      <td>False</td>\n",
       "      <td>False</td>\n",
       "      <td>False</td>\n",
       "      <td>False</td>\n",
       "      <td>False</td>\n",
       "      <td>True</td>\n",
       "      <td>False</td>\n",
       "      <td>False</td>\n",
       "      <td>False</td>\n",
       "      <td>False</td>\n",
       "    </tr>\n",
       "    <tr>\n",
       "      <th>68273</th>\n",
       "      <td>4.0</td>\n",
       "      <td>5.0</td>\n",
       "      <td>5589.0</td>\n",
       "      <td>1996.0</td>\n",
       "      <td>False</td>\n",
       "      <td>False</td>\n",
       "      <td>False</td>\n",
       "      <td>False</td>\n",
       "      <td>False</td>\n",
       "      <td>False</td>\n",
       "      <td>False</td>\n",
       "      <td>False</td>\n",
       "      <td>False</td>\n",
       "      <td>False</td>\n",
       "      <td>False</td>\n",
       "      <td>True</td>\n",
       "      <td>False</td>\n",
       "    </tr>\n",
       "  </tbody>\n",
       "</table>\n",
       "<p>71170 rows × 17 columns</p>\n",
       "</div>"
      ],
      "text/plain": [
       "       beds  baths  sqft_amount  yearBuilt  county_Collin  county_Dallas  \\\n",
       "20993   3.0    2.0       1561.0     1999.0          False          False   \n",
       "75503   3.0    2.0       1604.0     2024.0           True          False   \n",
       "27939   4.0    3.5       2171.0     2024.0          False          False   \n",
       "5726    3.0    2.0       1612.0     1950.0          False           True   \n",
       "26294   4.0    3.0       2423.0     2018.0          False          False   \n",
       "...     ...    ...          ...        ...            ...            ...   \n",
       "21245   4.0    2.0       1818.0     2021.0          False          False   \n",
       "45896   3.0    2.0       1605.0     2024.0          False          False   \n",
       "42617   3.0    2.0       1389.0     2004.0          False          False   \n",
       "43571   3.0    2.5       2152.0     2024.0          False          False   \n",
       "68273   4.0    5.0       5589.0     1996.0          False          False   \n",
       "\n",
       "       county_Denton  county_Ellis  county_Hood  county_Hunt  county_Johnson  \\\n",
       "20993           True         False        False        False           False   \n",
       "75503          False         False        False        False           False   \n",
       "27939           True         False        False        False           False   \n",
       "5726           False         False        False        False           False   \n",
       "26294           True         False        False        False           False   \n",
       "...              ...           ...          ...          ...             ...   \n",
       "21245           True         False        False        False           False   \n",
       "45896          False         False        False        False           False   \n",
       "42617          False         False        False        False           False   \n",
       "43571          False         False        False        False           False   \n",
       "68273          False         False        False        False           False   \n",
       "\n",
       "       county_Kaufman  county_Parker  county_Rockwall  county_Somervell  \\\n",
       "20993           False          False            False             False   \n",
       "75503           False          False            False             False   \n",
       "27939           False          False            False             False   \n",
       "5726            False          False            False             False   \n",
       "26294           False          False            False             False   \n",
       "...               ...            ...              ...               ...   \n",
       "21245           False          False            False             False   \n",
       "45896           False          False             True             False   \n",
       "42617           False           True            False             False   \n",
       "43571           False           True            False             False   \n",
       "68273           False          False            False             False   \n",
       "\n",
       "       county_Tarrant  county_Wise  \n",
       "20993           False        False  \n",
       "75503           False        False  \n",
       "27939           False        False  \n",
       "5726            False        False  \n",
       "26294           False        False  \n",
       "...               ...          ...  \n",
       "21245           False        False  \n",
       "45896           False        False  \n",
       "42617           False        False  \n",
       "43571           False        False  \n",
       "68273            True        False  \n",
       "\n",
       "[71170 rows x 17 columns]"
      ]
     },
     "execution_count": 12,
     "metadata": {},
     "output_type": "execute_result"
    }
   ],
   "source": [
    "X_train"
   ]
  },
  {
   "cell_type": "code",
   "execution_count": 17,
   "id": "fec797cb",
   "metadata": {},
   "outputs": [
    {
     "ename": "XGBoostError",
     "evalue": "\nXGBoost Library (libxgboost.dylib) could not be loaded.\nLikely causes:\n  * OpenMP runtime is not installed\n    - vcomp140.dll or libgomp-1.dll for Windows\n    - libomp.dylib for Mac OSX\n    - libgomp.so for Linux and other UNIX-like OSes\n    Mac OSX users: Run `brew install libomp` to install OpenMP runtime.\n\n  * You are running 32-bit Python on a 64-bit OS\n\nError message(s): [\"dlopen(/Users/trdny_josephjungermann/Documents/the_real_deal/20250515_DFW_ML_HousingPrices/.venv/lib/python3.10/site-packages/xgboost/lib/libxgboost.dylib, 0x0006): Library not loaded: @rpath/libomp.dylib\\n  Referenced from: <948FC7F9-7446-3923-BB9F-85890E78C765> /Users/trdny_josephjungermann/Documents/the_real_deal/20250515_DFW_ML_HousingPrices/.venv/lib/python3.10/site-packages/xgboost/lib/libxgboost.dylib\\n  Reason: tried: '/opt/homebrew/opt/libomp/lib/libomp.dylib' (no such file), '/System/Volumes/Preboot/Cryptexes/OS/opt/homebrew/opt/libomp/lib/libomp.dylib' (no such file), '/opt/homebrew/opt/libomp/lib/libomp.dylib' (no such file), '/System/Volumes/Preboot/Cryptexes/OS/opt/homebrew/opt/libomp/lib/libomp.dylib' (no such file)\"]\n",
     "output_type": "error",
     "traceback": [
      "\u001b[0;31m---------------------------------------------------------------------------\u001b[0m",
      "\u001b[0;31mXGBoostError\u001b[0m                              Traceback (most recent call last)",
      "Cell \u001b[0;32mIn[17], line 3\u001b[0m\n\u001b[1;32m      1\u001b[0m \u001b[38;5;66;03m# Begin building model with XGboost\u001b[39;00m\n\u001b[1;32m      2\u001b[0m \u001b[38;5;66;03m# Make a simple model to start called my_model_1. We'll improve as we go with my_model_2, 3, 4,etc.\u001b[39;00m\n\u001b[0;32m----> 3\u001b[0m \u001b[38;5;28;01mfrom\u001b[39;00m\u001b[38;5;250m \u001b[39m\u001b[38;5;21;01mxgboost\u001b[39;00m\u001b[38;5;250m \u001b[39m\u001b[38;5;28;01mimport\u001b[39;00m XGBRegressor\n\u001b[1;32m      4\u001b[0m \u001b[38;5;28;01mfrom\u001b[39;00m\u001b[38;5;250m \u001b[39m\u001b[38;5;21;01msklearn\u001b[39;00m\u001b[38;5;21;01m.\u001b[39;00m\u001b[38;5;21;01mmetrics\u001b[39;00m\u001b[38;5;250m \u001b[39m\u001b[38;5;28;01mimport\u001b[39;00m mean_absolute_error\n\u001b[1;32m      6\u001b[0m \u001b[38;5;66;03m# # Model 1\u001b[39;00m\n\u001b[1;32m      7\u001b[0m \u001b[38;5;66;03m# my_model_1 = XGBRegressor(random_state=0)\u001b[39;00m\n\u001b[1;32m      8\u001b[0m \u001b[38;5;66;03m# my_model_1.fit(X_train, y_train)\u001b[39;00m\n\u001b[0;32m   (...)\u001b[0m\n\u001b[1;32m     14\u001b[0m \u001b[38;5;66;03m# mae_1 = mean_absolute_error(predictions_1, y_valid)\u001b[39;00m\n\u001b[1;32m     15\u001b[0m \u001b[38;5;66;03m# print('Mean Absolute Error:', mae_1)\u001b[39;00m\n",
      "File \u001b[0;32m~/Documents/the_real_deal/20250515_DFW_ML_HousingPrices/.venv/lib/python3.10/site-packages/xgboost/__init__.py:6\u001b[0m\n\u001b[1;32m      1\u001b[0m \u001b[38;5;124;03m\"\"\"XGBoost: eXtreme Gradient Boosting library.\u001b[39;00m\n\u001b[1;32m      2\u001b[0m \n\u001b[1;32m      3\u001b[0m \u001b[38;5;124;03mContributors: https://github.com/dmlc/xgboost/blob/master/CONTRIBUTORS.md\u001b[39;00m\n\u001b[1;32m      4\u001b[0m \u001b[38;5;124;03m\"\"\"\u001b[39;00m\n\u001b[0;32m----> 6\u001b[0m \u001b[38;5;28;01mfrom\u001b[39;00m\u001b[38;5;250m \u001b[39m\u001b[38;5;21;01m.\u001b[39;00m\u001b[38;5;250m \u001b[39m\u001b[38;5;28;01mimport\u001b[39;00m tracker  \u001b[38;5;66;03m# noqa\u001b[39;00m\n\u001b[1;32m      7\u001b[0m \u001b[38;5;28;01mfrom\u001b[39;00m\u001b[38;5;250m \u001b[39m\u001b[38;5;21;01m.\u001b[39;00m\u001b[38;5;250m \u001b[39m\u001b[38;5;28;01mimport\u001b[39;00m collective\n\u001b[1;32m      8\u001b[0m \u001b[38;5;28;01mfrom\u001b[39;00m\u001b[38;5;250m \u001b[39m\u001b[38;5;21;01m.\u001b[39;00m\u001b[38;5;21;01mcore\u001b[39;00m\u001b[38;5;250m \u001b[39m\u001b[38;5;28;01mimport\u001b[39;00m (\n\u001b[1;32m      9\u001b[0m     Booster,\n\u001b[1;32m     10\u001b[0m     DataIter,\n\u001b[0;32m   (...)\u001b[0m\n\u001b[1;32m     15\u001b[0m     build_info,\n\u001b[1;32m     16\u001b[0m )\n",
      "File \u001b[0;32m~/Documents/the_real_deal/20250515_DFW_ML_HousingPrices/.venv/lib/python3.10/site-packages/xgboost/tracker.py:9\u001b[0m\n\u001b[1;32m      6\u001b[0m \u001b[38;5;28;01mfrom\u001b[39;00m\u001b[38;5;250m \u001b[39m\u001b[38;5;21;01menum\u001b[39;00m\u001b[38;5;250m \u001b[39m\u001b[38;5;28;01mimport\u001b[39;00m IntEnum, unique\n\u001b[1;32m      7\u001b[0m \u001b[38;5;28;01mfrom\u001b[39;00m\u001b[38;5;250m \u001b[39m\u001b[38;5;21;01mtyping\u001b[39;00m\u001b[38;5;250m \u001b[39m\u001b[38;5;28;01mimport\u001b[39;00m Dict, Optional, Union\n\u001b[0;32m----> 9\u001b[0m \u001b[38;5;28;01mfrom\u001b[39;00m\u001b[38;5;250m \u001b[39m\u001b[38;5;21;01m.\u001b[39;00m\u001b[38;5;21;01mcore\u001b[39;00m\u001b[38;5;250m \u001b[39m\u001b[38;5;28;01mimport\u001b[39;00m _LIB, _check_call, _deprecate_positional_args, make_jcargs\n\u001b[1;32m     12\u001b[0m \u001b[38;5;28;01mdef\u001b[39;00m\u001b[38;5;250m \u001b[39m\u001b[38;5;21mget_family\u001b[39m(addr: \u001b[38;5;28mstr\u001b[39m) \u001b[38;5;241m-\u001b[39m\u001b[38;5;241m>\u001b[39m \u001b[38;5;28mint\u001b[39m:\n\u001b[1;32m     13\u001b[0m \u001b[38;5;250m    \u001b[39m\u001b[38;5;124;03m\"\"\"Get network family from address.\"\"\"\u001b[39;00m\n",
      "File \u001b[0;32m~/Documents/the_real_deal/20250515_DFW_ML_HousingPrices/.venv/lib/python3.10/site-packages/xgboost/core.py:295\u001b[0m\n\u001b[1;32m    291\u001b[0m     \u001b[38;5;28;01mreturn\u001b[39;00m lib\n\u001b[1;32m    294\u001b[0m \u001b[38;5;66;03m# load the XGBoost library globally\u001b[39;00m\n\u001b[0;32m--> 295\u001b[0m _LIB \u001b[38;5;241m=\u001b[39m \u001b[43m_load_lib\u001b[49m\u001b[43m(\u001b[49m\u001b[43m)\u001b[49m\n\u001b[1;32m    298\u001b[0m \u001b[38;5;28;01mdef\u001b[39;00m\u001b[38;5;250m \u001b[39m\u001b[38;5;21m_check_call\u001b[39m(ret: \u001b[38;5;28mint\u001b[39m) \u001b[38;5;241m-\u001b[39m\u001b[38;5;241m>\u001b[39m \u001b[38;5;28;01mNone\u001b[39;00m:\n\u001b[1;32m    299\u001b[0m \u001b[38;5;250m    \u001b[39m\u001b[38;5;124;03m\"\"\"Check the return value of C API call\u001b[39;00m\n\u001b[1;32m    300\u001b[0m \n\u001b[1;32m    301\u001b[0m \u001b[38;5;124;03m    This function will raise exception when error occurs.\u001b[39;00m\n\u001b[0;32m   (...)\u001b[0m\n\u001b[1;32m    307\u001b[0m \u001b[38;5;124;03m        return value from API calls\u001b[39;00m\n\u001b[1;32m    308\u001b[0m \u001b[38;5;124;03m    \"\"\"\u001b[39;00m\n",
      "File \u001b[0;32m~/Documents/the_real_deal/20250515_DFW_ML_HousingPrices/.venv/lib/python3.10/site-packages/xgboost/core.py:257\u001b[0m, in \u001b[0;36m_load_lib\u001b[0;34m()\u001b[0m\n\u001b[1;32m    255\u001b[0m     \u001b[38;5;28;01mif\u001b[39;00m \u001b[38;5;129;01mnot\u001b[39;00m lib_success:\n\u001b[1;32m    256\u001b[0m         libname \u001b[38;5;241m=\u001b[39m os\u001b[38;5;241m.\u001b[39mpath\u001b[38;5;241m.\u001b[39mbasename(lib_paths[\u001b[38;5;241m0\u001b[39m])\n\u001b[0;32m--> 257\u001b[0m         \u001b[38;5;28;01mraise\u001b[39;00m XGBoostError(\n\u001b[1;32m    258\u001b[0m             \u001b[38;5;124mf\u001b[39m\u001b[38;5;124m\"\"\"\u001b[39m\n\u001b[1;32m    259\u001b[0m \u001b[38;5;124mXGBoost Library (\u001b[39m\u001b[38;5;132;01m{\u001b[39;00mlibname\u001b[38;5;132;01m}\u001b[39;00m\u001b[38;5;124m) could not be loaded.\u001b[39m\n\u001b[1;32m    260\u001b[0m \u001b[38;5;124mLikely causes:\u001b[39m\n\u001b[1;32m    261\u001b[0m \u001b[38;5;124m  * OpenMP runtime is not installed\u001b[39m\n\u001b[1;32m    262\u001b[0m \u001b[38;5;124m    - vcomp140.dll or libgomp-1.dll for Windows\u001b[39m\n\u001b[1;32m    263\u001b[0m \u001b[38;5;124m    - libomp.dylib for Mac OSX\u001b[39m\n\u001b[1;32m    264\u001b[0m \u001b[38;5;124m    - libgomp.so for Linux and other UNIX-like OSes\u001b[39m\n\u001b[1;32m    265\u001b[0m \u001b[38;5;124m    Mac OSX users: Run `brew install libomp` to install OpenMP runtime.\u001b[39m\n\u001b[1;32m    266\u001b[0m \n\u001b[1;32m    267\u001b[0m \u001b[38;5;124m  * You are running 32-bit Python on a 64-bit OS\u001b[39m\n\u001b[1;32m    268\u001b[0m \n\u001b[1;32m    269\u001b[0m \u001b[38;5;124mError message(s): \u001b[39m\u001b[38;5;132;01m{\u001b[39;00mos_error_list\u001b[38;5;132;01m}\u001b[39;00m\n\u001b[1;32m    270\u001b[0m \u001b[38;5;124m\"\"\"\u001b[39m\n\u001b[1;32m    271\u001b[0m         )\n\u001b[1;32m    272\u001b[0m     _register_log_callback(lib)\n\u001b[1;32m    274\u001b[0m     libver \u001b[38;5;241m=\u001b[39m _lib_version(lib)\n",
      "\u001b[0;31mXGBoostError\u001b[0m: \nXGBoost Library (libxgboost.dylib) could not be loaded.\nLikely causes:\n  * OpenMP runtime is not installed\n    - vcomp140.dll or libgomp-1.dll for Windows\n    - libomp.dylib for Mac OSX\n    - libgomp.so for Linux and other UNIX-like OSes\n    Mac OSX users: Run `brew install libomp` to install OpenMP runtime.\n\n  * You are running 32-bit Python on a 64-bit OS\n\nError message(s): [\"dlopen(/Users/trdny_josephjungermann/Documents/the_real_deal/20250515_DFW_ML_HousingPrices/.venv/lib/python3.10/site-packages/xgboost/lib/libxgboost.dylib, 0x0006): Library not loaded: @rpath/libomp.dylib\\n  Referenced from: <948FC7F9-7446-3923-BB9F-85890E78C765> /Users/trdny_josephjungermann/Documents/the_real_deal/20250515_DFW_ML_HousingPrices/.venv/lib/python3.10/site-packages/xgboost/lib/libxgboost.dylib\\n  Reason: tried: '/opt/homebrew/opt/libomp/lib/libomp.dylib' (no such file), '/System/Volumes/Preboot/Cryptexes/OS/opt/homebrew/opt/libomp/lib/libomp.dylib' (no such file), '/opt/homebrew/opt/libomp/lib/libomp.dylib' (no such file), '/System/Volumes/Preboot/Cryptexes/OS/opt/homebrew/opt/libomp/lib/libomp.dylib' (no such file)\"]\n"
     ]
    }
   ],
   "source": [
    "# Begin building model with XGboost\n",
    "# Make a simple model to start called my_model_1. We'll improve as we go with my_model_2, 3, 4,etc.\n",
    "from xgboost import XGBRegressor\n",
    "from sklearn.metrics import mean_absolute_error\n",
    "\n",
    "# # Model 1\n",
    "# my_model_1 = XGBRegressor(random_state=0)\n",
    "# my_model_1.fit(X_train, y_train)\n",
    "\n",
    "# # make prediction\n",
    "# predictions_1 = my_model_1.predict(X_valid)\n",
    "\n",
    "# # print mean_absolute_error\n",
    "# mae_1 = mean_absolute_error(predictions_1, y_valid)\n",
    "# print('Mean Absolute Error:', mae_1)"
   ]
  },
  {
   "cell_type": "code",
   "execution_count": 14,
   "id": "ca91fa90",
   "metadata": {},
   "outputs": [],
   "source": [
    "# # Model 2\n",
    "# # fit a new model adding estimators, early stop rounds and learning rate\n",
    "# my_model_2 = XGBRegressor(n_estimators=100, learning_rate=0.05, early_stopping_rounds=5, random_state=0)\n",
    "\n",
    "# my_model_2.fit(X_train, y_train,\n",
    "#                eval_set=[(X_valid,y_valid)],\n",
    "#                verbose=False)\n",
    "\n",
    "# #make prediction\n",
    "# predictions_2 = my_model_2.predict(X_valid)\n",
    "\n",
    "# mae_2 = mean_absolute_error(predictions_2, y_valid)\n",
    "# print('Mean Absolute Error 2:', mae_2)"
   ]
  },
  {
   "cell_type": "code",
   "execution_count": 19,
   "id": "88bab3e2",
   "metadata": {},
   "outputs": [
    {
     "ename": "SyntaxError",
     "evalue": "invalid syntax. Perhaps you forgot a comma? (2760538136.py, line 1)",
     "output_type": "error",
     "traceback": [
      "\u001b[0;36m  Cell \u001b[0;32mIn[19], line 1\u001b[0;36m\u001b[0m\n\u001b[0;31m    brew install libomp\u001b[0m\n\u001b[0m         ^\u001b[0m\n\u001b[0;31mSyntaxError\u001b[0m\u001b[0;31m:\u001b[0m invalid syntax. Perhaps you forgot a comma?\n"
     ]
    }
   ],
   "source": [
    "brew install libomp"
   ]
  },
  {
   "cell_type": "code",
   "execution_count": 15,
   "id": "d7327c67",
   "metadata": {},
   "outputs": [
    {
     "ename": "NameError",
     "evalue": "name 'XGBRegressor' is not defined",
     "output_type": "error",
     "traceback": [
      "\u001b[0;31m---------------------------------------------------------------------------\u001b[0m",
      "\u001b[0;31mNameError\u001b[0m                                 Traceback (most recent call last)",
      "Cell \u001b[0;32mIn[15], line 2\u001b[0m\n\u001b[1;32m      1\u001b[0m \u001b[38;5;66;03m# fit a new model adding estimators, early stop rounds and learning rate\u001b[39;00m\n\u001b[0;32m----> 2\u001b[0m my_model_3 \u001b[38;5;241m=\u001b[39m \u001b[43mXGBRegressor\u001b[49m(n_estimators\u001b[38;5;241m=\u001b[39m\u001b[38;5;241m200\u001b[39m, learning_rate\u001b[38;5;241m=\u001b[39m\u001b[38;5;241m0.05\u001b[39m, early_stopping_rounds\u001b[38;5;241m=\u001b[39m\u001b[38;5;241m20\u001b[39m, random_state\u001b[38;5;241m=\u001b[39m\u001b[38;5;241m0\u001b[39m)\n\u001b[1;32m      4\u001b[0m my_model_3\u001b[38;5;241m.\u001b[39mfit(X_train, y_train,\n\u001b[1;32m      5\u001b[0m                eval_set\u001b[38;5;241m=\u001b[39m[(X_valid,y_valid)],\n\u001b[1;32m      6\u001b[0m                verbose\u001b[38;5;241m=\u001b[39m\u001b[38;5;28;01mFalse\u001b[39;00m)\n\u001b[1;32m      8\u001b[0m \u001b[38;5;66;03m#make prediction\u001b[39;00m\n",
      "\u001b[0;31mNameError\u001b[0m: name 'XGBRegressor' is not defined"
     ]
    }
   ],
   "source": [
    "# fit a new model adding estimators, early stop rounds and learning rate\n",
    "my_model_3 = XGBRegressor(n_estimators=200, learning_rate=0.05, early_stopping_rounds=20, random_state=0)\n",
    "\n",
    "my_model_3.fit(X_train, y_train,\n",
    "               eval_set=[(X_valid,y_valid)],\n",
    "               verbose=False)\n",
    "\n",
    "#make prediction\n",
    "predictions_3 = my_model_3.predict(X_valid)\n",
    "\n",
    "mae_3 = mean_absolute_error(predictions_3, y_valid)\n",
    "print('Mean Absolute Error 3:', mae_3)"
   ]
  },
  {
   "cell_type": "code",
   "execution_count": null,
   "id": "e55f014b",
   "metadata": {},
   "outputs": [
    {
     "name": "stdout",
     "output_type": "stream",
     "text": [
      "Model saved to house_price_model.pkl\n"
     ]
    }
   ],
   "source": [
    "# save model to pkl file so that we can upload it to dash interactive slider\n",
    "# Save model\n",
    "joblib.dump(my_model_3, \"/Users/trdny_josephjungermann/Documents/the_real_deal/20250515_DFW_ML_HousingPrices/DFW_house_price_model.pkl\")\n",
    "print(\"Model saved to house_price_model.pkl\")"
   ]
  },
  {
   "cell_type": "markdown",
   "id": "2ac99ded",
   "metadata": {},
   "source": [
    "## Ways to improve the model:\n",
    "### 1. Fill in empty values for features: 'beds', 'baths', 'sqft_amount', 'yearBuilt'"
   ]
  },
  {
   "cell_type": "code",
   "execution_count": null,
   "id": "3edfc3d5",
   "metadata": {},
   "outputs": [],
   "source": []
  }
 ],
 "metadata": {
  "kernelspec": {
   "display_name": ".venv",
   "language": "python",
   "name": "python3"
  },
  "language_info": {
   "codemirror_mode": {
    "name": "ipython",
    "version": 3
   },
   "file_extension": ".py",
   "mimetype": "text/x-python",
   "name": "python",
   "nbconvert_exporter": "python",
   "pygments_lexer": "ipython3",
   "version": "3.10.0"
  }
 },
 "nbformat": 4,
 "nbformat_minor": 5
}
